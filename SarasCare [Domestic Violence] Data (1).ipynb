{
 "cells": [
  {
   "cell_type": "code",
   "execution_count": 17,
   "metadata": {},
   "outputs": [],
   "source": [
    "import numpy as np\n",
    "import pandas as pd\n",
    "import seaborn as sns\n",
    "import matplotlib.pyplot as plt"
   ]
  },
  {
   "cell_type": "code",
   "execution_count": 2,
   "metadata": {},
   "outputs": [
    {
     "data": {
      "text/html": [
       "<div>\n",
       "<style scoped>\n",
       "    .dataframe tbody tr th:only-of-type {\n",
       "        vertical-align: middle;\n",
       "    }\n",
       "\n",
       "    .dataframe tbody tr th {\n",
       "        vertical-align: top;\n",
       "    }\n",
       "\n",
       "    .dataframe thead th {\n",
       "        text-align: right;\n",
       "    }\n",
       "</style>\n",
       "<table border=\"1\" class=\"dataframe\">\n",
       "  <thead>\n",
       "    <tr style=\"text-align: right;\">\n",
       "      <th></th>\n",
       "      <th>Date</th>\n",
       "      <th>Interviewer</th>\n",
       "      <th>Name</th>\n",
       "      <th>Gender:</th>\n",
       "      <th>DOB (MM/DD/YYYY)</th>\n",
       "      <th>Title</th>\n",
       "      <th>Email:</th>\n",
       "      <th>Address (or suburb if homeless):</th>\n",
       "      <th>Physical proof of ID</th>\n",
       "      <th>Marital status</th>\n",
       "      <th>...</th>\n",
       "      <th>Children/dependents</th>\n",
       "      <th>Children's needs</th>\n",
       "      <th>Attitude</th>\n",
       "      <th>Level of intervention</th>\n",
       "      <th>Comments</th>\n",
       "      <th>Consent to share</th>\n",
       "      <th>Future Contact</th>\n",
       "      <th>Photo of ID Type</th>\n",
       "      <th>Item Type</th>\n",
       "      <th>Path</th>\n",
       "    </tr>\n",
       "  </thead>\n",
       "  <tbody>\n",
       "    <tr>\n",
       "      <th>0</th>\n",
       "      <td>2020-12-03</td>\n",
       "      <td>NaN</td>\n",
       "      <td>Zini Sheriff</td>\n",
       "      <td>Male</td>\n",
       "      <td>1954-08-27</td>\n",
       "      <td>0439770550</td>\n",
       "      <td>zininiz@hotmail.com</td>\n",
       "      <td>Agg St, Thornbury</td>\n",
       "      <td>Aged Pension Card</td>\n",
       "      <td>Single</td>\n",
       "      <td>...</td>\n",
       "      <td>NaN</td>\n",
       "      <td>NaN</td>\n",
       "      <td>Positive</td>\n",
       "      <td>Low</td>\n",
       "      <td>NaN</td>\n",
       "      <td>True</td>\n",
       "      <td>NaN</td>\n",
       "      <td>NaN</td>\n",
       "      <td>Item</td>\n",
       "      <td>sites/UI/Lists/Case Management Questionnaire</td>\n",
       "    </tr>\n",
       "    <tr>\n",
       "      <th>1</th>\n",
       "      <td>2020-12-07</td>\n",
       "      <td>NaN</td>\n",
       "      <td>Angelo Diiorio</td>\n",
       "      <td>Male</td>\n",
       "      <td>1951-06-26</td>\n",
       "      <td>0417195197</td>\n",
       "      <td>non@nil.com</td>\n",
       "      <td>Unit 48 number 3 Agg St Thornbury 3071</td>\n",
       "      <td>Pension card</td>\n",
       "      <td>Single</td>\n",
       "      <td>...</td>\n",
       "      <td>NaN</td>\n",
       "      <td>NaN</td>\n",
       "      <td>Positive</td>\n",
       "      <td>Low</td>\n",
       "      <td>NaN</td>\n",
       "      <td>True</td>\n",
       "      <td>NaN</td>\n",
       "      <td>NaN</td>\n",
       "      <td>Item</td>\n",
       "      <td>sites/UI/Lists/Case Management Questionnaire</td>\n",
       "    </tr>\n",
       "    <tr>\n",
       "      <th>2</th>\n",
       "      <td>2020-12-06</td>\n",
       "      <td>NaN</td>\n",
       "      <td>mr. n Bulman</td>\n",
       "      <td>Male</td>\n",
       "      <td>1969-01-05</td>\n",
       "      <td>0411746847c</td>\n",
       "      <td>nil</td>\n",
       "      <td>U 17 3 Agg St, Thornbury 3071</td>\n",
       "      <td>Umployment Card:710297103601</td>\n",
       "      <td>In Relationship</td>\n",
       "      <td>...</td>\n",
       "      <td>NaN</td>\n",
       "      <td>NaN</td>\n",
       "      <td>Positive</td>\n",
       "      <td>Low</td>\n",
       "      <td>NaN</td>\n",
       "      <td>False</td>\n",
       "      <td>NaN</td>\n",
       "      <td>NaN</td>\n",
       "      <td>Item</td>\n",
       "      <td>sites/UI/Lists/Case Management Questionnaire</td>\n",
       "    </tr>\n",
       "    <tr>\n",
       "      <th>3</th>\n",
       "      <td>1966-07-12</td>\n",
       "      <td>NaN</td>\n",
       "      <td>Jenny Freebairn</td>\n",
       "      <td>Female</td>\n",
       "      <td>1966-07-20</td>\n",
       "      <td>0401939702</td>\n",
       "      <td>jenny.freebairn20@hotmail.com</td>\n",
       "      <td>U 4/57 Warwick rd, Pascoe Vale, Vic 3044</td>\n",
       "      <td>Driver License: 040553643</td>\n",
       "      <td>In Relationship</td>\n",
       "      <td>...</td>\n",
       "      <td>NaN</td>\n",
       "      <td>NaN</td>\n",
       "      <td>Positive</td>\n",
       "      <td>Low</td>\n",
       "      <td>NaN</td>\n",
       "      <td>False</td>\n",
       "      <td>NaN</td>\n",
       "      <td>NaN</td>\n",
       "      <td>Item</td>\n",
       "      <td>sites/UI/Lists/Case Management Questionnaire</td>\n",
       "    </tr>\n",
       "    <tr>\n",
       "      <th>4</th>\n",
       "      <td>2020-12-08</td>\n",
       "      <td>NaN</td>\n",
       "      <td>Kshittiz Nyaupane</td>\n",
       "      <td>Male</td>\n",
       "      <td>1993-07-20</td>\n",
       "      <td>0426824992</td>\n",
       "      <td>kshitiz.cwin@gmail.com</td>\n",
       "      <td>30 Charming Street, Hampton East, 3188, VIC</td>\n",
       "      <td>Passport: 11142693</td>\n",
       "      <td>Married</td>\n",
       "      <td>...</td>\n",
       "      <td>NaN</td>\n",
       "      <td>NaN</td>\n",
       "      <td>Neutral</td>\n",
       "      <td>Low</td>\n",
       "      <td>NaN</td>\n",
       "      <td>True</td>\n",
       "      <td>NaN</td>\n",
       "      <td>NaN</td>\n",
       "      <td>Item</td>\n",
       "      <td>sites/UI/Lists/Case Management Questionnaire</td>\n",
       "    </tr>\n",
       "    <tr>\n",
       "      <th>...</th>\n",
       "      <td>...</td>\n",
       "      <td>...</td>\n",
       "      <td>...</td>\n",
       "      <td>...</td>\n",
       "      <td>...</td>\n",
       "      <td>...</td>\n",
       "      <td>...</td>\n",
       "      <td>...</td>\n",
       "      <td>...</td>\n",
       "      <td>...</td>\n",
       "      <td>...</td>\n",
       "      <td>...</td>\n",
       "      <td>...</td>\n",
       "      <td>...</td>\n",
       "      <td>...</td>\n",
       "      <td>...</td>\n",
       "      <td>...</td>\n",
       "      <td>...</td>\n",
       "      <td>...</td>\n",
       "      <td>...</td>\n",
       "      <td>...</td>\n",
       "    </tr>\n",
       "    <tr>\n",
       "      <th>64</th>\n",
       "      <td>2021-01-05</td>\n",
       "      <td>Meiqi Li</td>\n",
       "      <td>Annie Reyes</td>\n",
       "      <td>Male</td>\n",
       "      <td>1983-10-15</td>\n",
       "      <td>0478699127</td>\n",
       "      <td>aneey316@yahoo.com</td>\n",
       "      <td>Roxburgh Park, VIC 3064</td>\n",
       "      <td>7718665</td>\n",
       "      <td>Single</td>\n",
       "      <td>...</td>\n",
       "      <td>NaN</td>\n",
       "      <td>NaN</td>\n",
       "      <td>Neutral</td>\n",
       "      <td>Low</td>\n",
       "      <td>Annie is unemployed for more than 6 months, sh...</td>\n",
       "      <td>False</td>\n",
       "      <td>0.0</td>\n",
       "      <td>NaN</td>\n",
       "      <td>Item</td>\n",
       "      <td>sites/UI/Lists/Case Management Questionnaire</td>\n",
       "    </tr>\n",
       "    <tr>\n",
       "      <th>65</th>\n",
       "      <td>2021-01-05</td>\n",
       "      <td>Meiqi Li</td>\n",
       "      <td>Mahak Khera</td>\n",
       "      <td>Female</td>\n",
       "      <td>1989-03-21</td>\n",
       "      <td>0481385968</td>\n",
       "      <td>mahak.virmani1989@gmail.com</td>\n",
       "      <td>Reservoir</td>\n",
       "      <td>s3701260, Student ID</td>\n",
       "      <td>Married</td>\n",
       "      <td>...</td>\n",
       "      <td>NaN</td>\n",
       "      <td>NaN</td>\n",
       "      <td>Neutral</td>\n",
       "      <td>Low</td>\n",
       "      <td>Mehak feels more confident by wearing new clot...</td>\n",
       "      <td>False</td>\n",
       "      <td>0.0</td>\n",
       "      <td>NaN</td>\n",
       "      <td>Item</td>\n",
       "      <td>sites/UI/Lists/Case Management Questionnaire</td>\n",
       "    </tr>\n",
       "    <tr>\n",
       "      <th>66</th>\n",
       "      <td>2021-01-19</td>\n",
       "      <td>Richu Tom</td>\n",
       "      <td>Hafiz M W Azeem</td>\n",
       "      <td>Male</td>\n",
       "      <td>1992-09-05</td>\n",
       "      <td>0497150845</td>\n",
       "      <td>waqarazeem24@gmail.com</td>\n",
       "      <td>3 Newton St \\nReservoir \\n3073</td>\n",
       "      <td>Licence - 039140060</td>\n",
       "      <td>Single</td>\n",
       "      <td>...</td>\n",
       "      <td>NaN</td>\n",
       "      <td>NaN</td>\n",
       "      <td>Positive</td>\n",
       "      <td>Low</td>\n",
       "      <td>Lost home due to fire and needs urgent support...</td>\n",
       "      <td>False</td>\n",
       "      <td>1.0</td>\n",
       "      <td>NaN</td>\n",
       "      <td>Item</td>\n",
       "      <td>sites/UI/Lists/Case Management Questionnaire</td>\n",
       "    </tr>\n",
       "    <tr>\n",
       "      <th>67</th>\n",
       "      <td>2021-01-24</td>\n",
       "      <td>Richu Tom</td>\n",
       "      <td>Abishek Sangarapu</td>\n",
       "      <td>Male</td>\n",
       "      <td>1995-08-16</td>\n",
       "      <td>0422005731</td>\n",
       "      <td>shanabi3238@gmail.com</td>\n",
       "      <td>3 Newton Street, Reservoir</td>\n",
       "      <td>Passport -RO601296</td>\n",
       "      <td>Single</td>\n",
       "      <td>...</td>\n",
       "      <td>NaN</td>\n",
       "      <td>NaN</td>\n",
       "      <td>Neutral</td>\n",
       "      <td>Low</td>\n",
       "      <td>Lost House due to fire. \\n</td>\n",
       "      <td>True</td>\n",
       "      <td>0.0</td>\n",
       "      <td>NaN</td>\n",
       "      <td>Item</td>\n",
       "      <td>sites/UI/Lists/Case Management Questionnaire</td>\n",
       "    </tr>\n",
       "    <tr>\n",
       "      <th>68</th>\n",
       "      <td>2021-01-24</td>\n",
       "      <td>Richu Tom</td>\n",
       "      <td>Manatsawee Pongsuwan</td>\n",
       "      <td>Female</td>\n",
       "      <td>1979-06-04</td>\n",
       "      <td>0413715597</td>\n",
       "      <td>manat5432@outlook.com</td>\n",
       "      <td>77 Elm St, Northcote 3070</td>\n",
       "      <td>Licence - 040008595</td>\n",
       "      <td>Married</td>\n",
       "      <td>...</td>\n",
       "      <td>2 children</td>\n",
       "      <td>NaN</td>\n",
       "      <td>Neutral</td>\n",
       "      <td>Low</td>\n",
       "      <td>Couples went for a lunch outside and saw smoke...</td>\n",
       "      <td>True</td>\n",
       "      <td>0.0</td>\n",
       "      <td>NaN</td>\n",
       "      <td>Item</td>\n",
       "      <td>sites/UI/Lists/Case Management Questionnaire</td>\n",
       "    </tr>\n",
       "  </tbody>\n",
       "</table>\n",
       "<p>69 rows × 33 columns</p>\n",
       "</div>"
      ],
      "text/plain": [
       "         Date Interviewer                  Name Gender: DOB (MM/DD/YYYY)  \\\n",
       "0  2020-12-03         NaN          Zini Sheriff    Male       1954-08-27   \n",
       "1  2020-12-07         NaN        Angelo Diiorio    Male       1951-06-26   \n",
       "2  2020-12-06         NaN          mr. n Bulman    Male       1969-01-05   \n",
       "3  1966-07-12         NaN       Jenny Freebairn  Female       1966-07-20   \n",
       "4  2020-12-08         NaN     Kshittiz Nyaupane    Male       1993-07-20   \n",
       "..        ...         ...                   ...     ...              ...   \n",
       "64 2021-01-05    Meiqi Li           Annie Reyes    Male       1983-10-15   \n",
       "65 2021-01-05    Meiqi Li           Mahak Khera  Female       1989-03-21   \n",
       "66 2021-01-19   Richu Tom       Hafiz M W Azeem    Male       1992-09-05   \n",
       "67 2021-01-24   Richu Tom     Abishek Sangarapu    Male       1995-08-16   \n",
       "68 2021-01-24   Richu Tom  Manatsawee Pongsuwan  Female       1979-06-04   \n",
       "\n",
       "          Title                         Email:  \\\n",
       "0    0439770550            zininiz@hotmail.com   \n",
       "1    0417195197                    non@nil.com   \n",
       "2   0411746847c                            nil   \n",
       "3    0401939702  jenny.freebairn20@hotmail.com   \n",
       "4    0426824992         kshitiz.cwin@gmail.com   \n",
       "..          ...                            ...   \n",
       "64   0478699127             aneey316@yahoo.com   \n",
       "65   0481385968    mahak.virmani1989@gmail.com   \n",
       "66   0497150845         waqarazeem24@gmail.com   \n",
       "67   0422005731          shanabi3238@gmail.com   \n",
       "68   0413715597          manat5432@outlook.com   \n",
       "\n",
       "               Address (or suburb if homeless):  \\\n",
       "0                             Agg St, Thornbury   \n",
       "1       Unit 48 number 3 Agg St Thornbury 3071    \n",
       "2                 U 17 3 Agg St, Thornbury 3071   \n",
       "3      U 4/57 Warwick rd, Pascoe Vale, Vic 3044   \n",
       "4   30 Charming Street, Hampton East, 3188, VIC   \n",
       "..                                          ...   \n",
       "64                      Roxburgh Park, VIC 3064   \n",
       "65                                    Reservoir   \n",
       "66               3 Newton St \\nReservoir \\n3073   \n",
       "67                   3 Newton Street, Reservoir   \n",
       "68                    77 Elm St, Northcote 3070   \n",
       "\n",
       "             Physical proof of ID   Marital status  ... Children/dependents   \\\n",
       "0               Aged Pension Card           Single  ...                  NaN   \n",
       "1                    Pension card           Single  ...                  NaN   \n",
       "2   Umployment Card:710297103601   In Relationship  ...                  NaN   \n",
       "3       Driver License: 040553643  In Relationship  ...                  NaN   \n",
       "4              Passport: 11142693          Married  ...                  NaN   \n",
       "..                            ...              ...  ...                  ...   \n",
       "64                        7718665           Single  ...                  NaN   \n",
       "65           s3701260, Student ID          Married  ...                  NaN   \n",
       "66            Licence - 039140060           Single  ...                  NaN   \n",
       "67             Passport -RO601296           Single  ...                  NaN   \n",
       "68            Licence - 040008595          Married  ...           2 children   \n",
       "\n",
       "   Children's needs  Attitude  Level of intervention   \\\n",
       "0               NaN   Positive                    Low   \n",
       "1               NaN   Positive                    Low   \n",
       "2               NaN   Positive                    Low   \n",
       "3               NaN   Positive                    Low   \n",
       "4               NaN    Neutral                    Low   \n",
       "..              ...        ...                    ...   \n",
       "64              NaN    Neutral                    Low   \n",
       "65              NaN    Neutral                    Low   \n",
       "66              NaN   Positive                    Low   \n",
       "67              NaN    Neutral                    Low   \n",
       "68              NaN    Neutral                    Low   \n",
       "\n",
       "                                             Comments Consent to share  \\\n",
       "0                                                 NaN             True   \n",
       "1                                                 NaN             True   \n",
       "2                                                 NaN            False   \n",
       "3                                                 NaN            False   \n",
       "4                                                 NaN             True   \n",
       "..                                                ...              ...   \n",
       "64  Annie is unemployed for more than 6 months, sh...            False   \n",
       "65  Mehak feels more confident by wearing new clot...            False   \n",
       "66  Lost home due to fire and needs urgent support...            False   \n",
       "67                         Lost House due to fire. \\n             True   \n",
       "68  Couples went for a lunch outside and saw smoke...             True   \n",
       "\n",
       "    Future Contact Photo of ID Type  Item Type  \\\n",
       "0              NaN              NaN       Item   \n",
       "1              NaN              NaN       Item   \n",
       "2              NaN              NaN       Item   \n",
       "3              NaN              NaN       Item   \n",
       "4              NaN              NaN       Item   \n",
       "..             ...              ...        ...   \n",
       "64             0.0              NaN       Item   \n",
       "65             0.0              NaN       Item   \n",
       "66             1.0              NaN       Item   \n",
       "67             0.0              NaN       Item   \n",
       "68             0.0              NaN       Item   \n",
       "\n",
       "                                            Path  \n",
       "0   sites/UI/Lists/Case Management Questionnaire  \n",
       "1   sites/UI/Lists/Case Management Questionnaire  \n",
       "2   sites/UI/Lists/Case Management Questionnaire  \n",
       "3   sites/UI/Lists/Case Management Questionnaire  \n",
       "4   sites/UI/Lists/Case Management Questionnaire  \n",
       "..                                           ...  \n",
       "64  sites/UI/Lists/Case Management Questionnaire  \n",
       "65  sites/UI/Lists/Case Management Questionnaire  \n",
       "66  sites/UI/Lists/Case Management Questionnaire  \n",
       "67  sites/UI/Lists/Case Management Questionnaire  \n",
       "68  sites/UI/Lists/Case Management Questionnaire  \n",
       "\n",
       "[69 rows x 33 columns]"
      ]
     },
     "execution_count": 2,
     "metadata": {},
     "output_type": "execute_result"
    }
   ],
   "source": [
    "sc=pd.read_excel(\"D:\\RMIT Semester 4\\Data Science Postgraduate project/Case Files Nov Care Donation.xlsx\")\n",
    "sc"
   ]
  },
  {
   "cell_type": "code",
   "execution_count": 3,
   "metadata": {},
   "outputs": [
    {
     "data": {
      "text/plain": [
       "Index(['Date', 'Interviewer', 'Name', 'Gender:', 'DOB (MM/DD/YYYY)', 'Title',\n",
       "       'Email:', 'Address (or suburb if homeless):', 'Physical proof of ID',\n",
       "       'Marital status', 'Visa status', 'Are you a pensioner',\n",
       "       'Are you employed', 'Duration of unemployment',\n",
       "       'Education - Are they a student?', 'Educational Institute',\n",
       "       'Disability ', 'Disability Type', 'Disability - Are needs being met?',\n",
       "       'Carer information', 'Substance abuse:', 'Hardship during covid-19',\n",
       "       'Assessment of Needs', 'Children/dependents ', 'Children's needs',\n",
       "       'Attitude ', 'Level of intervention ', 'Comments', 'Consent to share',\n",
       "       'Future Contact', 'Photo of ID Type', 'Item Type', 'Path'],\n",
       "      dtype='object')"
      ]
     },
     "execution_count": 3,
     "metadata": {},
     "output_type": "execute_result"
    }
   ],
   "source": [
    "sc.columns"
   ]
  },
  {
   "cell_type": "code",
   "execution_count": 4,
   "metadata": {},
   "outputs": [
    {
     "data": {
      "text/html": [
       "<div>\n",
       "<style scoped>\n",
       "    .dataframe tbody tr th:only-of-type {\n",
       "        vertical-align: middle;\n",
       "    }\n",
       "\n",
       "    .dataframe tbody tr th {\n",
       "        vertical-align: top;\n",
       "    }\n",
       "\n",
       "    .dataframe thead th {\n",
       "        text-align: right;\n",
       "    }\n",
       "</style>\n",
       "<table border=\"1\" class=\"dataframe\">\n",
       "  <thead>\n",
       "    <tr style=\"text-align: right;\">\n",
       "      <th></th>\n",
       "      <th>Missing values</th>\n",
       "      <th>Percentage</th>\n",
       "    </tr>\n",
       "  </thead>\n",
       "  <tbody>\n",
       "    <tr>\n",
       "      <th>Date</th>\n",
       "      <td>0</td>\n",
       "      <td>0.000000</td>\n",
       "    </tr>\n",
       "    <tr>\n",
       "      <th>Interviewer</th>\n",
       "      <td>36</td>\n",
       "      <td>52.173913</td>\n",
       "    </tr>\n",
       "    <tr>\n",
       "      <th>Name</th>\n",
       "      <td>0</td>\n",
       "      <td>0.000000</td>\n",
       "    </tr>\n",
       "    <tr>\n",
       "      <th>Gender:</th>\n",
       "      <td>0</td>\n",
       "      <td>0.000000</td>\n",
       "    </tr>\n",
       "    <tr>\n",
       "      <th>DOB (MM/DD/YYYY)</th>\n",
       "      <td>2</td>\n",
       "      <td>2.898551</td>\n",
       "    </tr>\n",
       "    <tr>\n",
       "      <th>Title</th>\n",
       "      <td>0</td>\n",
       "      <td>0.000000</td>\n",
       "    </tr>\n",
       "    <tr>\n",
       "      <th>Email:</th>\n",
       "      <td>13</td>\n",
       "      <td>18.840580</td>\n",
       "    </tr>\n",
       "    <tr>\n",
       "      <th>Address (or suburb if homeless):</th>\n",
       "      <td>5</td>\n",
       "      <td>7.246377</td>\n",
       "    </tr>\n",
       "    <tr>\n",
       "      <th>Physical proof of ID</th>\n",
       "      <td>2</td>\n",
       "      <td>2.898551</td>\n",
       "    </tr>\n",
       "    <tr>\n",
       "      <th>Marital status</th>\n",
       "      <td>1</td>\n",
       "      <td>1.449275</td>\n",
       "    </tr>\n",
       "    <tr>\n",
       "      <th>Visa status</th>\n",
       "      <td>11</td>\n",
       "      <td>15.942029</td>\n",
       "    </tr>\n",
       "    <tr>\n",
       "      <th>Are you a pensioner</th>\n",
       "      <td>27</td>\n",
       "      <td>39.130435</td>\n",
       "    </tr>\n",
       "    <tr>\n",
       "      <th>Are you employed</th>\n",
       "      <td>0</td>\n",
       "      <td>0.000000</td>\n",
       "    </tr>\n",
       "    <tr>\n",
       "      <th>Duration of unemployment</th>\n",
       "      <td>26</td>\n",
       "      <td>37.681159</td>\n",
       "    </tr>\n",
       "    <tr>\n",
       "      <th>Education - Are they a student?</th>\n",
       "      <td>0</td>\n",
       "      <td>0.000000</td>\n",
       "    </tr>\n",
       "    <tr>\n",
       "      <th>Educational Institute</th>\n",
       "      <td>47</td>\n",
       "      <td>68.115942</td>\n",
       "    </tr>\n",
       "    <tr>\n",
       "      <th>Disability</th>\n",
       "      <td>0</td>\n",
       "      <td>0.000000</td>\n",
       "    </tr>\n",
       "    <tr>\n",
       "      <th>Disability Type</th>\n",
       "      <td>50</td>\n",
       "      <td>72.463768</td>\n",
       "    </tr>\n",
       "    <tr>\n",
       "      <th>Disability - Are needs being met?</th>\n",
       "      <td>0</td>\n",
       "      <td>0.000000</td>\n",
       "    </tr>\n",
       "    <tr>\n",
       "      <th>Carer information</th>\n",
       "      <td>62</td>\n",
       "      <td>89.855072</td>\n",
       "    </tr>\n",
       "    <tr>\n",
       "      <th>Substance abuse:</th>\n",
       "      <td>0</td>\n",
       "      <td>0.000000</td>\n",
       "    </tr>\n",
       "    <tr>\n",
       "      <th>Hardship during covid-19</th>\n",
       "      <td>11</td>\n",
       "      <td>15.942029</td>\n",
       "    </tr>\n",
       "    <tr>\n",
       "      <th>Assessment of Needs</th>\n",
       "      <td>17</td>\n",
       "      <td>24.637681</td>\n",
       "    </tr>\n",
       "    <tr>\n",
       "      <th>Children/dependents</th>\n",
       "      <td>49</td>\n",
       "      <td>71.014493</td>\n",
       "    </tr>\n",
       "    <tr>\n",
       "      <th>Children's needs</th>\n",
       "      <td>58</td>\n",
       "      <td>84.057971</td>\n",
       "    </tr>\n",
       "    <tr>\n",
       "      <th>Attitude</th>\n",
       "      <td>0</td>\n",
       "      <td>0.000000</td>\n",
       "    </tr>\n",
       "    <tr>\n",
       "      <th>Level of intervention</th>\n",
       "      <td>0</td>\n",
       "      <td>0.000000</td>\n",
       "    </tr>\n",
       "    <tr>\n",
       "      <th>Comments</th>\n",
       "      <td>27</td>\n",
       "      <td>39.130435</td>\n",
       "    </tr>\n",
       "    <tr>\n",
       "      <th>Consent to share</th>\n",
       "      <td>0</td>\n",
       "      <td>0.000000</td>\n",
       "    </tr>\n",
       "    <tr>\n",
       "      <th>Future Contact</th>\n",
       "      <td>6</td>\n",
       "      <td>8.695652</td>\n",
       "    </tr>\n",
       "    <tr>\n",
       "      <th>Photo of ID Type</th>\n",
       "      <td>60</td>\n",
       "      <td>86.956522</td>\n",
       "    </tr>\n",
       "    <tr>\n",
       "      <th>Item Type</th>\n",
       "      <td>0</td>\n",
       "      <td>0.000000</td>\n",
       "    </tr>\n",
       "    <tr>\n",
       "      <th>Path</th>\n",
       "      <td>0</td>\n",
       "      <td>0.000000</td>\n",
       "    </tr>\n",
       "  </tbody>\n",
       "</table>\n",
       "</div>"
      ],
      "text/plain": [
       "                                   Missing values  Percentage\n",
       "Date                                            0    0.000000\n",
       "Interviewer                                    36   52.173913\n",
       "Name                                            0    0.000000\n",
       "Gender:                                         0    0.000000\n",
       "DOB (MM/DD/YYYY)                                2    2.898551\n",
       "Title                                           0    0.000000\n",
       "Email:                                         13   18.840580\n",
       "Address (or suburb if homeless):                5    7.246377\n",
       "Physical proof of ID                            2    2.898551\n",
       "Marital status                                  1    1.449275\n",
       "Visa status                                    11   15.942029\n",
       "Are you a pensioner                            27   39.130435\n",
       "Are you employed                                0    0.000000\n",
       "Duration of unemployment                       26   37.681159\n",
       "Education - Are they a student?                 0    0.000000\n",
       "Educational Institute                          47   68.115942\n",
       "Disability                                      0    0.000000\n",
       "Disability Type                                50   72.463768\n",
       "Disability - Are needs being met?               0    0.000000\n",
       "Carer information                              62   89.855072\n",
       "Substance abuse:                                0    0.000000\n",
       "Hardship during covid-19                       11   15.942029\n",
       "Assessment of Needs                            17   24.637681\n",
       "Children/dependents                            49   71.014493\n",
       "Children's needs                               58   84.057971\n",
       "Attitude                                        0    0.000000\n",
       "Level of intervention                           0    0.000000\n",
       "Comments                                       27   39.130435\n",
       "Consent to share                                0    0.000000\n",
       "Future Contact                                  6    8.695652\n",
       "Photo of ID Type                               60   86.956522\n",
       "Item Type                                       0    0.000000\n",
       "Path                                            0    0.000000"
      ]
     },
     "execution_count": 4,
     "metadata": {},
     "output_type": "execute_result"
    }
   ],
   "source": [
    "x=sc.isnull().sum()\n",
    "y=sc.isnull().sum()*100/len(sc)\n",
    "missing_values=pd.DataFrame({'Missing values':x,'Percentage':y})\n",
    "missing_values"
   ]
  },
  {
   "cell_type": "code",
   "execution_count": 5,
   "metadata": {},
   "outputs": [],
   "source": [
    "# For columns with missing values we are filling them with \"Not Mentioned\"\n",
    "\n",
    "col=['Interviewer','DOB (MM/DD/YYYY)','Email:','Address (or suburb if homeless):','Physical proof of ID','Marital status',\n",
    "    'Visa status','Are you a pensioner','Duration of unemployment','Educational Institute','Disability Type','Hardship during covid-19',\n",
    "    'Assessment of Needs','Future Contact','Comments']\n",
    "\n",
    "for c in col:\n",
    "    sc[c]=sc[c].fillna('Not Mentioned')"
   ]
  },
  {
   "cell_type": "code",
   "execution_count": 6,
   "metadata": {},
   "outputs": [
    {
     "data": {
      "text/html": [
       "<div>\n",
       "<style scoped>\n",
       "    .dataframe tbody tr th:only-of-type {\n",
       "        vertical-align: middle;\n",
       "    }\n",
       "\n",
       "    .dataframe tbody tr th {\n",
       "        vertical-align: top;\n",
       "    }\n",
       "\n",
       "    .dataframe thead th {\n",
       "        text-align: right;\n",
       "    }\n",
       "</style>\n",
       "<table border=\"1\" class=\"dataframe\">\n",
       "  <thead>\n",
       "    <tr style=\"text-align: right;\">\n",
       "      <th></th>\n",
       "      <th>Missing values</th>\n",
       "      <th>Percentage</th>\n",
       "    </tr>\n",
       "  </thead>\n",
       "  <tbody>\n",
       "    <tr>\n",
       "      <th>Date</th>\n",
       "      <td>0</td>\n",
       "      <td>0.000000</td>\n",
       "    </tr>\n",
       "    <tr>\n",
       "      <th>Interviewer</th>\n",
       "      <td>0</td>\n",
       "      <td>0.000000</td>\n",
       "    </tr>\n",
       "    <tr>\n",
       "      <th>Name</th>\n",
       "      <td>0</td>\n",
       "      <td>0.000000</td>\n",
       "    </tr>\n",
       "    <tr>\n",
       "      <th>Gender:</th>\n",
       "      <td>0</td>\n",
       "      <td>0.000000</td>\n",
       "    </tr>\n",
       "    <tr>\n",
       "      <th>DOB (MM/DD/YYYY)</th>\n",
       "      <td>0</td>\n",
       "      <td>0.000000</td>\n",
       "    </tr>\n",
       "    <tr>\n",
       "      <th>Title</th>\n",
       "      <td>0</td>\n",
       "      <td>0.000000</td>\n",
       "    </tr>\n",
       "    <tr>\n",
       "      <th>Email:</th>\n",
       "      <td>0</td>\n",
       "      <td>0.000000</td>\n",
       "    </tr>\n",
       "    <tr>\n",
       "      <th>Address (or suburb if homeless):</th>\n",
       "      <td>0</td>\n",
       "      <td>0.000000</td>\n",
       "    </tr>\n",
       "    <tr>\n",
       "      <th>Physical proof of ID</th>\n",
       "      <td>0</td>\n",
       "      <td>0.000000</td>\n",
       "    </tr>\n",
       "    <tr>\n",
       "      <th>Marital status</th>\n",
       "      <td>0</td>\n",
       "      <td>0.000000</td>\n",
       "    </tr>\n",
       "    <tr>\n",
       "      <th>Visa status</th>\n",
       "      <td>0</td>\n",
       "      <td>0.000000</td>\n",
       "    </tr>\n",
       "    <tr>\n",
       "      <th>Are you a pensioner</th>\n",
       "      <td>0</td>\n",
       "      <td>0.000000</td>\n",
       "    </tr>\n",
       "    <tr>\n",
       "      <th>Are you employed</th>\n",
       "      <td>0</td>\n",
       "      <td>0.000000</td>\n",
       "    </tr>\n",
       "    <tr>\n",
       "      <th>Duration of unemployment</th>\n",
       "      <td>0</td>\n",
       "      <td>0.000000</td>\n",
       "    </tr>\n",
       "    <tr>\n",
       "      <th>Education - Are they a student?</th>\n",
       "      <td>0</td>\n",
       "      <td>0.000000</td>\n",
       "    </tr>\n",
       "    <tr>\n",
       "      <th>Educational Institute</th>\n",
       "      <td>0</td>\n",
       "      <td>0.000000</td>\n",
       "    </tr>\n",
       "    <tr>\n",
       "      <th>Disability</th>\n",
       "      <td>0</td>\n",
       "      <td>0.000000</td>\n",
       "    </tr>\n",
       "    <tr>\n",
       "      <th>Disability Type</th>\n",
       "      <td>0</td>\n",
       "      <td>0.000000</td>\n",
       "    </tr>\n",
       "    <tr>\n",
       "      <th>Disability - Are needs being met?</th>\n",
       "      <td>0</td>\n",
       "      <td>0.000000</td>\n",
       "    </tr>\n",
       "    <tr>\n",
       "      <th>Carer information</th>\n",
       "      <td>62</td>\n",
       "      <td>89.855072</td>\n",
       "    </tr>\n",
       "    <tr>\n",
       "      <th>Substance abuse:</th>\n",
       "      <td>0</td>\n",
       "      <td>0.000000</td>\n",
       "    </tr>\n",
       "    <tr>\n",
       "      <th>Hardship during covid-19</th>\n",
       "      <td>0</td>\n",
       "      <td>0.000000</td>\n",
       "    </tr>\n",
       "    <tr>\n",
       "      <th>Assessment of Needs</th>\n",
       "      <td>0</td>\n",
       "      <td>0.000000</td>\n",
       "    </tr>\n",
       "    <tr>\n",
       "      <th>Children/dependents</th>\n",
       "      <td>49</td>\n",
       "      <td>71.014493</td>\n",
       "    </tr>\n",
       "    <tr>\n",
       "      <th>Children's needs</th>\n",
       "      <td>58</td>\n",
       "      <td>84.057971</td>\n",
       "    </tr>\n",
       "    <tr>\n",
       "      <th>Attitude</th>\n",
       "      <td>0</td>\n",
       "      <td>0.000000</td>\n",
       "    </tr>\n",
       "    <tr>\n",
       "      <th>Level of intervention</th>\n",
       "      <td>0</td>\n",
       "      <td>0.000000</td>\n",
       "    </tr>\n",
       "    <tr>\n",
       "      <th>Comments</th>\n",
       "      <td>0</td>\n",
       "      <td>0.000000</td>\n",
       "    </tr>\n",
       "    <tr>\n",
       "      <th>Consent to share</th>\n",
       "      <td>0</td>\n",
       "      <td>0.000000</td>\n",
       "    </tr>\n",
       "    <tr>\n",
       "      <th>Future Contact</th>\n",
       "      <td>0</td>\n",
       "      <td>0.000000</td>\n",
       "    </tr>\n",
       "    <tr>\n",
       "      <th>Photo of ID Type</th>\n",
       "      <td>60</td>\n",
       "      <td>86.956522</td>\n",
       "    </tr>\n",
       "    <tr>\n",
       "      <th>Item Type</th>\n",
       "      <td>0</td>\n",
       "      <td>0.000000</td>\n",
       "    </tr>\n",
       "    <tr>\n",
       "      <th>Path</th>\n",
       "      <td>0</td>\n",
       "      <td>0.000000</td>\n",
       "    </tr>\n",
       "  </tbody>\n",
       "</table>\n",
       "</div>"
      ],
      "text/plain": [
       "                                   Missing values  Percentage\n",
       "Date                                            0    0.000000\n",
       "Interviewer                                     0    0.000000\n",
       "Name                                            0    0.000000\n",
       "Gender:                                         0    0.000000\n",
       "DOB (MM/DD/YYYY)                                0    0.000000\n",
       "Title                                           0    0.000000\n",
       "Email:                                          0    0.000000\n",
       "Address (or suburb if homeless):                0    0.000000\n",
       "Physical proof of ID                            0    0.000000\n",
       "Marital status                                  0    0.000000\n",
       "Visa status                                     0    0.000000\n",
       "Are you a pensioner                             0    0.000000\n",
       "Are you employed                                0    0.000000\n",
       "Duration of unemployment                        0    0.000000\n",
       "Education - Are they a student?                 0    0.000000\n",
       "Educational Institute                           0    0.000000\n",
       "Disability                                      0    0.000000\n",
       "Disability Type                                 0    0.000000\n",
       "Disability - Are needs being met?               0    0.000000\n",
       "Carer information                              62   89.855072\n",
       "Substance abuse:                                0    0.000000\n",
       "Hardship during covid-19                        0    0.000000\n",
       "Assessment of Needs                             0    0.000000\n",
       "Children/dependents                            49   71.014493\n",
       "Children's needs                               58   84.057971\n",
       "Attitude                                        0    0.000000\n",
       "Level of intervention                           0    0.000000\n",
       "Comments                                        0    0.000000\n",
       "Consent to share                                0    0.000000\n",
       "Future Contact                                  0    0.000000\n",
       "Photo of ID Type                               60   86.956522\n",
       "Item Type                                       0    0.000000\n",
       "Path                                            0    0.000000"
      ]
     },
     "execution_count": 6,
     "metadata": {},
     "output_type": "execute_result"
    }
   ],
   "source": [
    "x=sc.isnull().sum()\n",
    "y=sc.isnull().sum()*100/len(sc)\n",
    "missing_values=pd.DataFrame({'Missing values':x,'Percentage':y})\n",
    "missing_values\n",
    "\n",
    "# For the rest we can see that majority of the data is missing therefore best course of action is to delete those columns"
   ]
  },
  {
   "cell_type": "code",
   "execution_count": 7,
   "metadata": {},
   "outputs": [],
   "source": [
    "# Deleting the columns which have a lot of missing data\n",
    "sc=sc.drop(columns=['Carer information',\"Children's needs\",'Photo of ID Type'])"
   ]
  },
  {
   "cell_type": "code",
   "execution_count": 10,
   "metadata": {},
   "outputs": [
    {
     "data": {
      "text/plain": [
       "<matplotlib.axes._subplots.AxesSubplot at 0x139f75efbe0>"
      ]
     },
     "execution_count": 10,
     "metadata": {},
     "output_type": "execute_result"
    },
    {
     "data": {
      "image/png": "[encoded data removed]",
      "text/plain": [
       "<Figure size 432x288 with 1 Axes>"
      ]
     },
     "metadata": {
      "needs_background": "light"
     },
     "output_type": "display_data"
    }
   ],
   "source": [
    "# Gender\n",
    "sc_g=sc['Gender:'].value_counts()\n",
    "sns.barplot(sc_g.index, sc_g.values)"
   ]
  },
  {
   "cell_type": "code",
   "execution_count": 12,
   "metadata": {},
   "outputs": [
    {
     "data": {
      "text/plain": [
       "<matplotlib.axes._subplots.AxesSubplot at 0x139f76939b0>"
      ]
     },
     "execution_count": 12,
     "metadata": {},
     "output_type": "execute_result"
    },
    {
     "data": {
      "image/png": "[encoded data removed]",
      "text/plain": [
       "<Figure size 432x288 with 1 Axes>"
      ]
     },
     "metadata": {
      "needs_background": "light"
     },
     "output_type": "display_data"
    }
   ],
   "source": [
    "sc_marital=sc['Marital status'].value_counts()\n",
    "sns.barplot(sc_marital.index,sc_marital.values)"
   ]
  },
  {
   "cell_type": "code",
   "execution_count": 21,
   "metadata": {},
   "outputs": [
    {
     "data": {
      "text/plain": [
       "(array([ 0,  1,  2,  3,  4,  5,  6,  7,  8,  9, 10, 11, 12]),\n",
       " <a list of 13 Text xticklabel objects>)"
      ]
     },
     "execution_count": 21,
     "metadata": {},
     "output_type": "execute_result"
    },
    {
     "data": {
      "image/png": "[encoded data removed]",
      "text/plain": [
       "<Figure size 432x288 with 1 Axes>"
      ]
     },
     "metadata": {
      "needs_background": "light"
     },
     "output_type": "display_data"
    }
   ],
   "source": [
    "sc_visa=sc['Visa status'].value_counts()\n",
    "sns.barplot(sc_visa.index,sc_visa.values)\n",
    "plt.xticks(rotation=90)"
   ]
  },
  {
   "cell_type": "code",
   "execution_count": 23,
   "metadata": {},
   "outputs": [
    {
     "data": {
      "text/plain": [
       "<matplotlib.axes._subplots.AxesSubplot at 0x139f8d5e518>"
      ]
     },
     "execution_count": 23,
     "metadata": {},
     "output_type": "execute_result"
    },
    {
     "data": {
      "image/png": "[encoded data removed]",
      "text/plain": [
       "<Figure size 432x288 with 1 Axes>"
      ]
     },
     "metadata": {
      "needs_background": "light"
     },
     "output_type": "display_data"
    }
   ],
   "source": [
    "sc_visa=sc['Are you a pensioner'].value_counts()\n",
    "sns.barplot(sc_visa.index,sc_visa.values)\n",
    "#plt.xticks(rotation=90)"
   ]
  },
  {
   "cell_type": "code",
   "execution_count": 24,
   "metadata": {},
   "outputs": [
    {
     "data": {
      "text/plain": [
       "<matplotlib.axes._subplots.AxesSubplot at 0x139f8a4d860>"
      ]
     },
     "execution_count": 24,
     "metadata": {},
     "output_type": "execute_result"
    },
    {
     "data": {
      "image/png": "[encoded data removed]",
      "text/plain": [
       "<Figure size 432x288 with 1 Axes>"
      ]
     },
     "metadata": {
      "needs_background": "light"
     },
     "output_type": "display_data"
    }
   ],
   "source": [
    "sc_visa=sc['Are you employed'].value_counts()\n",
    "sns.barplot(sc_visa.index,sc_visa.values)"
   ]
  },
  {
   "cell_type": "code",
   "execution_count": 26,
   "metadata": {},
   "outputs": [
    {
     "data": {
      "text/plain": [
       "(array([0, 1, 2, 3, 4]), <a list of 5 Text xticklabel objects>)"
      ]
     },
     "execution_count": 26,
     "metadata": {},
     "output_type": "execute_result"
    },
    {
     "data": {
      "image/png": "[encoded data removed]",
      "text/plain": [
       "<Figure size 432x288 with 1 Axes>"
      ]
     },
     "metadata": {
      "needs_background": "light"
     },
     "output_type": "display_data"
    }
   ],
   "source": [
    "sc_visa=sc['Duration of unemployment'].value_counts()\n",
    "sns.barplot(sc_visa.index,sc_visa.values)\n",
    "plt.xticks(rotation=90)"
   ]
  },
  {
   "cell_type": "code",
   "execution_count": 27,
   "metadata": {},
   "outputs": [
    {
     "data": {
      "text/plain": [
       "(array([0, 1]), <a list of 2 Text xticklabel objects>)"
      ]
     },
     "execution_count": 27,
     "metadata": {},
     "output_type": "execute_result"
    },
    {
     "data": {
      "image/png": "[encoded data removed]",
      "text/plain": [
       "<Figure size 432x288 with 1 Axes>"
      ]
     },
     "metadata": {
      "needs_background": "light"
     },
     "output_type": "display_data"
    }
   ],
   "source": [
    "sc_visa=sc['Education - Are they a student?'].value_counts()\n",
    "sns.barplot(sc_visa.index,sc_visa.values)\n",
    "plt.xticks(rotation=90)"
   ]
  },
  {
   "cell_type": "code",
   "execution_count": 31,
   "metadata": {},
   "outputs": [
    {
     "data": {
      "text/plain": [
       "<matplotlib.axes._subplots.AxesSubplot at 0x139f8a534a8>"
      ]
     },
     "execution_count": 31,
     "metadata": {},
     "output_type": "execute_result"
    },
    {
     "data": {
      "image/png": "[encoded data removed]",
      "text/plain": [
       "<Figure size 432x288 with 1 Axes>"
      ]
     },
     "metadata": {
      "needs_background": "light"
     },
     "output_type": "display_data"
    }
   ],
   "source": [
    "sc_visa=sc['Disability '].value_counts()\n",
    "sns.barplot(sc_visa.index,sc_visa.values)\n",
    "#plt.xticks(rotation=90)"
   ]
  },
  {
   "cell_type": "code",
   "execution_count": 34,
   "metadata": {},
   "outputs": [
    {
     "data": {
      "text/plain": [
       "(array([ 0,  1,  2,  3,  4,  5,  6,  7,  8,  9, 10, 11, 12, 13, 14, 15, 16,\n",
       "        17, 18, 19, 20, 21, 22, 23, 24, 25]),\n",
       " <a list of 26 Text xticklabel objects>)"
      ]
     },
     "execution_count": 34,
     "metadata": {},
     "output_type": "execute_result"
    },
    {
     "data": {
      "image/png": "[encoded data removed]",
      "text/plain": [
       "<Figure size 432x288 with 1 Axes>"
      ]
     },
     "metadata": {
      "needs_background": "light"
     },
     "output_type": "display_data"
    }
   ],
   "source": [
    "sc_visa=sc['Hardship during covid-19'].value_counts()\n",
    "sns.barplot(sc_visa.index,sc_visa.values)\n",
    "plt.xticks(rotation=90)"
   ]
  },
  {
   "cell_type": "code",
   "execution_count": 35,
   "metadata": {},
   "outputs": [
    {
     "data": {
      "text/plain": [
       "(array([ 0,  1,  2,  3,  4,  5,  6,  7,  8,  9, 10, 11, 12, 13, 14, 15, 16,\n",
       "        17, 18, 19, 20, 21, 22, 23, 24, 25, 26, 27, 28, 29, 30]),\n",
       " <a list of 31 Text xticklabel objects>)"
      ]
     },
     "execution_count": 35,
     "metadata": {},
     "output_type": "execute_result"
    },
    {
     "data": {
      "image/png": "[encoded data removed]",
      "text/plain": [
       "<Figure size 432x288 with 1 Axes>"
      ]
     },
     "metadata": {
      "needs_background": "light"
     },
     "output_type": "display_data"
    }
   ],
   "source": [
    "sc_visa=sc['Assessment of Needs'].value_counts()\n",
    "sns.barplot(sc_visa.index,sc_visa.values)\n",
    "plt.xticks(rotation=90)"
   ]
  },
  {
   "cell_type": "code",
   "execution_count": 37,
   "metadata": {},
   "outputs": [
    {
     "data": {
      "text/plain": [
       "<matplotlib.axes._subplots.AxesSubplot at 0x139f8d5e438>"
      ]
     },
     "execution_count": 37,
     "metadata": {},
     "output_type": "execute_result"
    },
    {
     "data": {
      "image/png": "[encoded data removed]",
      "text/plain": [
       "<Figure size 432x288 with 1 Axes>"
      ]
     },
     "metadata": {
      "needs_background": "light"
     },
     "output_type": "display_data"
    }
   ],
   "source": [
    "sc_visa=sc['Attitude '].value_counts()\n",
    "sns.barplot(sc_visa.index,sc_visa.values)"
   ]
  },
  {
   "cell_type": "code",
   "execution_count": 39,
   "metadata": {},
   "outputs": [
    {
     "data": {
      "text/plain": [
       "<matplotlib.axes._subplots.AxesSubplot at 0x139f8c3c7f0>"
      ]
     },
     "execution_count": 39,
     "metadata": {},
     "output_type": "execute_result"
    },
    {
     "data": {
      "image/png": "[encoded data removed]",
      "text/plain": [
       "<Figure size 432x288 with 1 Axes>"
      ]
     },
     "metadata": {
      "needs_background": "light"
     },
     "output_type": "display_data"
    }
   ],
   "source": [
    "sc_visa=sc['Level of intervention '].value_counts()\n",
    "sns.barplot(sc_visa.index,sc_visa.values)"
   ]
  },
  {
   "cell_type": "code",
   "execution_count": null,
   "metadata": {},
   "outputs": [],
   "source": []
  }
 ],
 "metadata": {
  "kernelspec": {
   "display_name": "Python 3",
   "language": "python",
   "name": "python3"
  },
  "language_info": {
   "codemirror_mode": {
    "name": "ipython",
    "version": 3
   },
   "file_extension": ".py",
   "mimetype": "text/x-python",
   "name": "python",
   "nbconvert_exporter": "python",
   "pygments_lexer": "ipython3",
   "version": "3.7.3"
  }
 },
 "nbformat": 4,
 "nbformat_minor": 2
}
